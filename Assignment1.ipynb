{
 "cells": [
  {
   "cell_type": "markdown",
   "id": "19df23ed-f4cb-4548-bb78-5d8f8e4fb83d",
   "metadata": {},
   "source": [
    "# Assignment 1"
   ]
  },
  {
   "cell_type": "markdown",
   "id": "decd78b1-09de-43cc-923a-ddaf5f61a190",
   "metadata": {},
   "source": [
    "1. Write a Python Program to accept the details of a student like name,rollnumber and mark and display it.\n",
    "\n",
    "Sample input: Enter the name: Anisha \n",
    "Enter the roll number: 21\n",
    "Enter the mark: 78\n",
    "\n",
    "Sample output: \n",
    "Name: Anisha Roll No: 21 Mark: 78"
   ]
  },
  {
   "cell_type": "code",
   "execution_count": 2,
   "id": "225f4bd6-2e4b-48b2-8b8c-c290efcdbc4c",
   "metadata": {},
   "outputs": [
    {
     "name": "stdin",
     "output_type": "stream",
     "text": [
      "Enter the name: Afrin\n",
      "Enter the Roll number: 2\n",
      "Enter the mark: 98\n"
     ]
    },
    {
     "name": "stdout",
     "output_type": "stream",
     "text": [
      "Name: Afrin Roll Number: 2 Mark: 98\n"
     ]
    }
   ],
   "source": [
    "Name = input(\"Enter the name:\")\n",
    "Roll_Num = int(input(\"Enter the Roll number:\"))\n",
    "Mark = int(input(\"Enter the mark:\"))\n",
    "print(\"Name:\", Name, \"Roll Number:\", Roll_Num, \"Mark:\", Mark )"
   ]
  },
  {
   "cell_type": "markdown",
   "id": "39438da8-51d7-451c-99e8-e6dbc54a7fc2",
   "metadata": {},
   "source": [
    "2. Write a Python program to convert temperatures to and from Celsius Fahrenheit. [Formula: c/5=f-32/9 where c=temperature in Celsius and f= temperature in Fahrenheit.] Sample input: Temperature in Fahrenheit =41 Sample output: Temperature in Celsius =5"
   ]
  },
  {
   "cell_type": "code",
   "execution_count": 4,
   "id": "e01eed56-ee1b-4090-a35f-89dacf34953a",
   "metadata": {},
   "outputs": [
    {
     "name": "stdin",
     "output_type": "stream",
     "text": [
      "Enter the temperature in Celsius: 32.5\n"
     ]
    },
    {
     "name": "stdout",
     "output_type": "stream",
     "text": [
      "Temperature in Farenheit is: 90.5\n"
     ]
    }
   ],
   "source": [
    "Temp_C = float(input(\"Enter the temperature in Celsius:\"))\n",
    "Temp_F = (Temp_C * 1.8) + 32 \n",
    "print(\"Temperature in Farenheit is:\", Temp_F)"
   ]
  },
  {
   "cell_type": "markdown",
   "id": "3a8c31d5-bc83-41dc-af3c-1bed05ea0bbe",
   "metadata": {},
   "source": [
    " 3. Write a Python program to accept two numbers from the user and display its product."
   ]
  },
  {
   "cell_type": "code",
   "execution_count": 5,
   "id": "58c2bade-837a-43b4-a11d-14bb0b782b2c",
   "metadata": {},
   "outputs": [
    {
     "name": "stdin",
     "output_type": "stream",
     "text": [
      "Enter first number: 2.5\n",
      "Enter second number: 2\n"
     ]
    },
    {
     "name": "stdout",
     "output_type": "stream",
     "text": [
      "Product of two numbers is: 5.0\n"
     ]
    }
   ],
   "source": [
    "a = float(input(\"Enter first number:\"))\n",
    "b = float(input(\"Enter second number:\"))\n",
    "print(\"Product of two numbers is:\",a*b)\n",
    "          "
   ]
  },
  {
   "cell_type": "markdown",
   "id": "a48167f8-1fb6-4184-a82b-cff3660512a7",
   "metadata": {},
   "source": [
    "\n",
    "4. \n",
    "Write a Python program to accept a string “Learn Python by Developing a Website” and display the string like “Learn ** Python ** by Developing a ** Website **”"
   ]
  },
  {
   "cell_type": "code",
   "execution_count": 9,
   "id": "9a6e84b0-735d-4749-bef0-ddb2ff20d4e5",
   "metadata": {},
   "outputs": [
    {
     "name": "stdout",
     "output_type": "stream",
     "text": [
      "Learn **Python** by Developing a **Website**\n"
     ]
    }
   ],
   "source": [
    "string1 = \"Learn Python by Developing a Website\"\n",
    "string2 = string1[0:6]+\"**\"+string1[6:12]+\"**\"+string1[12:29]+\"**\"+string1[29:36]+\"**\"\n",
    "print(string2)"
   ]
  },
  {
   "cell_type": "markdown",
   "id": "2c30c42d-6361-4deb-94eb-ef366e8bdc19",
   "metadata": {},
   "source": [
    "5. Write a Python program to accept the radius of a circle and display its area."
   ]
  },
  {
   "cell_type": "code",
   "execution_count": 12,
   "id": "3b7a9752-5016-42bd-9b71-8cdbbb24699e",
   "metadata": {},
   "outputs": [
    {
     "name": "stdin",
     "output_type": "stream",
     "text": [
      "Enter the radius of the circle: 7.5\n"
     ]
    },
    {
     "name": "stdout",
     "output_type": "stream",
     "text": [
      "Area of the circle is:  176.71458676442586\n"
     ]
    }
   ],
   "source": [
    "import math\n",
    "\n",
    "radius = float(input(\"Enter the radius of the circle:\"))\n",
    "area = math.pi*radius**2\n",
    "print(\"Area of the circle is: \", area)"
   ]
  },
  {
   "cell_type": "markdown",
   "id": "81e2c439-2b1a-438c-bb44-77fe1a527fb8",
   "metadata": {},
   "source": [
    "6. Python program to insert a number to any position in a list (Get the number to be inserted and position from the user)"
   ]
  },
  {
   "cell_type": "code",
   "execution_count": 3,
   "id": "8aeb2c82-da81-459a-907e-e502b3d903bb",
   "metadata": {},
   "outputs": [
    {
     "name": "stdin",
     "output_type": "stream",
     "text": [
      "Enter the number to be inserted:  100\n",
      "Enter the position to insert number:  4\n"
     ]
    },
    {
     "name": "stdout",
     "output_type": "stream",
     "text": [
      "\n",
      "List after performing Insert Operation: \n",
      "[24, 36, 48, 52, 100, 67, 78, 81, 99]\n"
     ]
    }
   ],
   "source": [
    "list1 = [24,36,48,52,67,78,81,99]\n",
    "\n",
    "num = int(input(\"Enter the number to be inserted: \"))\n",
    "post = int(input(\"Enter the position to insert number: \"))\n",
    "\n",
    "#inserting element\n",
    "list1.insert(post,num)\n",
    "\n",
    "print(\"\\nList after performing Insert Operation: \")\n",
    "print(list1)\n",
    "          "
   ]
  },
  {
   "cell_type": "markdown",
   "id": "817281b8-d601-49a3-b819-1b7047637ea2",
   "metadata": {},
   "source": [
    "7. Write a program to rename a key city to a location in the following dictionary. sample_dict = { \"name\": \"John\", \"age\":5, \"salary\": 8000, \"city\": \"New York\"}"
   ]
  },
  {
   "cell_type": "code",
   "execution_count": 14,
   "id": "de5f4e97-7908-4950-9522-d9dc454c43c6",
   "metadata": {},
   "outputs": [
    {
     "name": "stdout",
     "output_type": "stream",
     "text": [
      "Dictionary Elements:\n",
      " {'name': 'John', 'age': 5, 'salary': 8000, 'city': 'New York'}\n",
      "Dictionary after changing key value:\n",
      " {'name': 'John', 'age': 5, 'salary': 8000, 'location': 'New York'}\n"
     ]
    }
   ],
   "source": [
    "sample_dict = { \"name\": \"John\", \"age\":5, \"salary\": 8000, \"city\": \"New York\"}\n",
    "print(\"Dictionary Elements:\\n\", sample_dict)\n",
    "\n",
    "sample_dict[\"location\"] = sample_dict.pop(\"city\")\n",
    "print(\"Dictionary after changing key value:\\n\", sample_dict)"
   ]
  },
  {
   "cell_type": "markdown",
   "id": "c172c362-7e4c-4b40-a192-2a2f61e7de67",
   "metadata": {},
   "source": [
    "8. Write a Python program to change Brad’s salary to 8500 in the following dictionary.\n",
    "sample_dict = {\n",
    "'emp1': {'name': 'John', 'salary': 7500}, 'emp2': {'name': 'Emma', 'salary': 8000}, 'emp3': {'name': 'Brad', 'salary': 500}\n",
    "}"
   ]
  },
  {
   "cell_type": "code",
   "execution_count": 13,
   "id": "77669cce-d9fe-4b49-a29d-fe60d9872c53",
   "metadata": {},
   "outputs": [
    {
     "name": "stdout",
     "output_type": "stream",
     "text": [
      "Dictionary Elements:\n",
      " {'emp1': {'name': 'John', 'salary': 7500}, 'emp2': {'name': 'Emma', 'salary': 8000}, 'emp3': {'name': 'Brad', 'salary': 500}}\n",
      "\n",
      "Dictionary after updating Salary:\n",
      " {'emp1': {'name': 'John', 'salary': 7500}, 'emp2': {'name': 'Emma', 'salary': 8000}, 'emp3': {'name': 'Brad', 'salary': 8500}}\n"
     ]
    }
   ],
   "source": [
    "dict1 = { 'emp1': {'name': 'John', 'salary': 7500}, 'emp2': {'name': 'Emma', 'salary': 8000}, 'emp3': {'name': 'Brad', 'salary': 500} }\n",
    "print(\"Dictionary Elements:\\n\", dict1)\n",
    "\n",
    "dict1[\"emp3\"]['salary'] = 8500\n",
    "print(\"\\nDictionary after updating Salary:\\n\", dict1)"
   ]
  },
  {
   "cell_type": "markdown",
   "id": "570ffdf6-6987-4547-9108-a27ff3c905ee",
   "metadata": {},
   "source": [
    "9. Write a program to copy elements 43 and 54 from the following tuple into a new tuple. Given:\n",
    "tuple1 = (10, 20, 43, 54, 56, 68)"
   ]
  },
  {
   "cell_type": "code",
   "execution_count": 10,
   "id": "f8c0c509-4550-4c49-8b66-783cd488ef17",
   "metadata": {},
   "outputs": [
    {
     "name": "stdout",
     "output_type": "stream",
     "text": [
      "Tuple elements are: (10, 20, 43, 54, 56, 68)\n",
      "\n",
      "New tuple after copying (43, 54)\n"
     ]
    }
   ],
   "source": [
    "tuple1 = (10, 20, 43, 54, 56, 68)\n",
    "print(\"Tuple elements are:\", tuple1)\n",
    "\n",
    "tuple2 = tuple1[2:4]\n",
    "print(\"\\nNew tuple after copying\", tuple2)"
   ]
  },
  {
   "cell_type": "markdown",
   "id": "8633c6fd-feb4-45e3-86ee-3eac9571edbc",
   "metadata": {},
   "source": [
    "10. Counts the number of occurrences of item 50 from a tuple tuple1 = (50, 10, 60, 70, 50,83,567,50,81)"
   ]
  },
  {
   "cell_type": "code",
   "execution_count": 8,
   "id": "7cdbf4d4-7250-45e6-9468-beb2eee48500",
   "metadata": {},
   "outputs": [
    {
     "name": "stdout",
     "output_type": "stream",
     "text": [
      "Tuple elements: (50, 10, 60, 70, 50, 83, 567, 50, 81)\n",
      "\n",
      "Number of occurances of the item 50 are : 3\n"
     ]
    }
   ],
   "source": [
    "tuple1 = (50, 10, 60, 70, 50, 83, 567, 50, 81)\n",
    "print(\"Tuple elements:\", tuple1)\n",
    "\n",
    "n = tuple1.count(50)\n",
    "print(\"\\nNumber of occurances of the item 50 are :\", n)"
   ]
  },
  {
   "cell_type": "code",
   "execution_count": null,
   "id": "f1b56d9c-18b8-449d-b5ec-cfc88611e1d1",
   "metadata": {},
   "outputs": [],
   "source": []
  }
 ],
 "metadata": {
  "kernelspec": {
   "display_name": "Python 3 (ipykernel)",
   "language": "python",
   "name": "python3"
  },
  "language_info": {
   "codemirror_mode": {
    "name": "ipython",
    "version": 3
   },
   "file_extension": ".py",
   "mimetype": "text/x-python",
   "name": "python",
   "nbconvert_exporter": "python",
   "pygments_lexer": "ipython3",
   "version": "3.8.13"
  }
 },
 "nbformat": 4,
 "nbformat_minor": 5
}
