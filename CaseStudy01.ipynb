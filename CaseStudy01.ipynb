{
 "cells": [
  {
   "cell_type": "markdown",
   "id": "4db1e518-afa7-4efe-b4ca-124ac073ffff",
   "metadata": {},
   "source": [
    "#                             Case Study - 01\n",
    "\n",
    " 1. A school has following rules for grading system: a. Below 25 - F\n",
    "    b. 25 to 45 - E\n",
    "    c. 45 to 50 - D\n",
    "    d. 50 to 60 - C\n",
    "    e. 60 to 80 - B\n",
    "    f. Above 80 - A\n",
    "    Ask user to enter marks and print the corresponding grade."
   ]
  },
  {
   "cell_type": "code",
   "execution_count": 3,
   "id": "22b0a9c5-1cc9-415e-8a30-f899c4917028",
   "metadata": {},
   "outputs": [
    {
     "name": "stdin",
     "output_type": "stream",
     "text": [
      "Enter mark: 56\n"
     ]
    },
    {
     "name": "stdout",
     "output_type": "stream",
     "text": [
      "Grade 'C'\n"
     ]
    }
   ],
   "source": [
    "# a. Below 25 - F\n",
    "# b. 25 to 45 - E\n",
    "# c. 45 to 50 - D\n",
    "# d. 50 to 60 - C\n",
    "# e. 60 to 80 - B\n",
    "# f. Above 80 - A\n",
    "\n",
    "mark = float(input(\"Enter mark:\"))\n",
    "\n",
    "if mark>=80:\n",
    "    print(\"Grade 'A'\")\n",
    "elif mark>=60 and mark<80:\n",
    "    print(\"Grade 'B'\")\n",
    "elif mark>=50 and mark<60:\n",
    "    print(\"Grade 'C'\")  \n",
    "elif mark>=45 and mark<50:\n",
    "    print(\"Grade 'D'\")\n",
    "elif mark>=25 and mark<45:\n",
    "    print(\"Grade 'E'\")  \n",
    "elif mark<25:\n",
    "    print(\"Grade 'F'\")\n",
    "else:\n",
    "    print(\"Enter a Valid Mark\")"
   ]
  },
  {
   "cell_type": "markdown",
   "id": "85a9a5fa-bc6d-446c-96a8-f2665439e6ed",
   "metadata": {},
   "source": [
    " 2. You have a list of names. Create a new list which contains only the names with non-repeating characters.\n",
    "\n",
    "Sample input = [‘John’,’Peter’,’Meera’,’Mini’,’Krishna’] \n",
    "Sample output = [‘John’,Krishna]"
   ]
  },
  {
   "cell_type": "code",
   "execution_count": 110,
   "id": "3f43fe7e-ae32-4c1c-a82d-0b05113734b7",
   "metadata": {},
   "outputs": [
    {
     "name": "stdout",
     "output_type": "stream",
     "text": [
      "List of names without repeating characters are: ['John', 'Krishna', 'Neil']\n"
     ]
    }
   ],
   "source": [
    "names =  ['John','Peter','Meera','Mini','Krishna','Neil'] \n",
    "\n",
    "new_names = []\n",
    "\n",
    "for name in names:\n",
    "    for i in name:\n",
    "        flag=0\n",
    "        if name.count(i)>1:\n",
    "            flag = 1\n",
    "            break\n",
    "    if flag == 0:\n",
    "        new_names.append(name)         \n",
    "\n",
    "print(\"List of names without repeating characters are:\",new_names)\n",
    "    \n",
    "    "
   ]
  },
  {
   "cell_type": "code",
   "execution_count": 108,
   "id": "26cb543b-d392-4853-bb30-59186087a9bf",
   "metadata": {},
   "outputs": [
    {
     "name": "stdout",
     "output_type": "stream",
     "text": [
      "List of names without repeating characters are: ['John', 'Krishna', 'Neil']\n"
     ]
    }
   ],
   "source": [
    "#Same program using set\n",
    "\n",
    "# List containing names\n",
    "names =  ['John','Peter','Meera','Mini','Krishna','Neil'] \n",
    "\n",
    "#initialising output list\n",
    "names_new =[]\n",
    "\n",
    "i=0\n",
    "for name in names:\n",
    "    set1 = set(name) #converting to set. Set will not have duplicate values\n",
    "    if len(set1)==len(name): \n",
    "        names_new.append(name)\n",
    "        \n",
    "        \n",
    "print(\"List of names without repeating characters are:\",names_new)\n",
    "\n"
   ]
  },
  {
   "cell_type": "code",
   "execution_count": 70,
   "id": "eb96c5e9-48bb-4cd1-beeb-9235447475b9",
   "metadata": {},
   "outputs": [
    {
     "name": "stdin",
     "output_type": "stream",
     "text": [
      "Enter the names: ajuma Muneer irfan afrin aneez ameena thabsheera\n"
     ]
    },
    {
     "name": "stdout",
     "output_type": "stream",
     "text": [
      "List of names without repeating characters are: ['irfan', 'afrin']\n"
     ]
    }
   ],
   "source": [
    "# Taking list of names from User\n",
    "\n",
    "names = list(input(\"Enter the names:\").split())\n",
    "\n",
    "#initialising output list\n",
    "names_new =[]\n",
    "\n",
    "i=0\n",
    "for name in names:\n",
    "    set1 = set(name) #converting to set. Set will not have duplicate values\n",
    "    if len(set1)==len(name): \n",
    "        names_new.append(name)\n",
    "        \n",
    "        \n",
    "print(\"List of names without repeating characters are:\",names_new)"
   ]
  },
  {
   "cell_type": "markdown",
   "id": "a2bcaddc-ddca-4e7b-872f-de749e9c2ef1",
   "metadata": {},
   "source": [
    " 3.Take values of length and breadth of a rectangle from user and check if it is square or not."
   ]
  },
  {
   "cell_type": "code",
   "execution_count": 77,
   "id": "27fb5d71-cb34-40c5-8b9e-94769777ad89",
   "metadata": {},
   "outputs": [
    {
     "name": "stdin",
     "output_type": "stream",
     "text": [
      "Enter length and breadth: 23.5 23\n"
     ]
    },
    {
     "name": "stdout",
     "output_type": "stream",
     "text": [
      "It's not a square\n"
     ]
    }
   ],
   "source": [
    "length, breadth = map(float,input(\"Enter length and breadth:\").split())\n",
    "\n",
    "print (\"It's a square\") if length==breadth else print(\"It's not a square\")"
   ]
  },
  {
   "cell_type": "markdown",
   "id": "fb0d7b38-e9f1-46fb-8203-37d35e314ed2",
   "metadata": {},
   "source": [
    " 4. A student will not be allowed to sit in exam if his/her attendance is less than 75%. Take following input from user Number of classes held Number of classes attended. And print percentage of class attended Is student is allowed to sit in exam or not."
   ]
  },
  {
   "cell_type": "code",
   "execution_count": 100,
   "id": "d6997cc9-96d7-49bd-be78-d08ce2194cbb",
   "metadata": {},
   "outputs": [
    {
     "name": "stdin",
     "output_type": "stream",
     "text": [
      "Enter the number of classes attended by the student and the number of classes held during the term: 12 24\n"
     ]
    },
    {
     "name": "stdout",
     "output_type": "stream",
     "text": [
      "50.0\n",
      "You have attended only 50.0 percentage classes. So you're not allowed to sit for the exam: \n"
     ]
    }
   ],
   "source": [
    "class_attended, class_held = map(int,input(\"Enter the number of classes attended by the student and the number of classes held during the term:\").split())\n",
    "\n",
    "attendence_per =float(class_attended/class_held)*100\n",
    "print(attendence_per)\n",
    "\n",
    "if attendence_per < 75:\n",
    "    print(\"You have attended only\",attendence_per,\"percentage classes. So you're not allowed to sit for the exam: \")\n",
    "if attendence_per >= 75:  \n",
    "    print(\"You have attended\",attendence_per,\" percentage classes. So you're allowed to sit for the exam: \")"
   ]
  },
  {
   "cell_type": "markdown",
   "id": "8e1c3d42-c82c-4b76-940a-b535441b6ce3",
   "metadata": {},
   "source": [
    " 5. Create a list by taking length of the list and elements of the list from user. Then find the sum of the elements of the list. Also create a new called even list which contains only even numbers from first list and odd list which contains odd numbers from the list.\n",
    " Sample input:\n",
    " Length of the list = 5\n",
    "List1 = [2,6,3,1,5] Sum = 17 Even_list=[2,6] Odd_list=[3,1,5]"
   ]
  },
  {
   "cell_type": "code",
   "execution_count": 111,
   "id": "9afa0e71-f414-4d8a-a742-68e4f03bef48",
   "metadata": {},
   "outputs": [
    {
     "name": "stdin",
     "output_type": "stream",
     "text": [
      "Enter length of the list: 5\n"
     ]
    },
    {
     "name": "stdout",
     "output_type": "stream",
     "text": [
      "Enter 5 of elements to the list\n"
     ]
    },
    {
     "name": "stdin",
     "output_type": "stream",
     "text": [
      " 2\n",
      " 4\n",
      " 6\n",
      " 8\n",
      " 10\n"
     ]
    },
    {
     "name": "stdout",
     "output_type": "stream",
     "text": [
      "Elements in the list are: [2, 4, 6, 8, 10]\n",
      "Sum of elements in the list: 30\n",
      "Even list: [2, 4, 6, 8, 10]\n",
      "Odd list: []\n"
     ]
    }
   ],
   "source": [
    "len_list = int(input(\"Enter length of the list:\"))\n",
    "\n",
    "num_list =[]\n",
    "even_list = []\n",
    "odd_list = []\n",
    "\n",
    "print(\"Enter\", len_list, \"of elements to the list\")\n",
    "\n",
    "for i in range(0,len_list):\n",
    "    temp = int(input())\n",
    "    num_list.append(temp)\n",
    "    \n",
    "print(\"Elements in the list are:\", num_list)\n",
    "print(\"Sum of elements in the list:\", sum(num_list))\n",
    "\n",
    "for num in num_list:\n",
    "    if num%2 == 0:\n",
    "        even_list.append(num)\n",
    "    else:\n",
    "        odd_list.append(num)\n",
    "        \n",
    "print(\"Even list:\", even_list)\n",
    "print(\"Odd list:\", odd_list)  "
   ]
  },
  {
   "cell_type": "markdown",
   "id": "f984c04d-e382-414e-b0f7-f3f11fca482d",
   "metadata": {},
   "source": [
    "6. Create a sample chatbot for an ecommerce website."
   ]
  },
  {
   "cell_type": "code",
   "execution_count": 2,
   "id": "4435d443-21b7-459c-8118-2d18442905ee",
   "metadata": {},
   "outputs": [
    {
     "name": "stdout",
     "output_type": "stream",
     "text": [
      "Welcome to 'Cake world, How may I help you!\n",
      "Please enter 'Quit' to stop\n",
      "\n"
     ]
    },
    {
     "name": "stdin",
     "output_type": "stream",
     "text": [
      "Enter your query:  can I see your menu\n"
     ]
    },
    {
     "name": "stdout",
     "output_type": "stream",
     "text": [
      "Here is our menu. Please have a look\n",
      "\n"
     ]
    },
    {
     "name": "stdin",
     "output_type": "stream",
     "text": [
      "Enter your query:  I would like to order a cake\n"
     ]
    },
    {
     "name": "stdout",
     "output_type": "stream",
     "text": [
      "thank you for showing interest in us. Here are the options for you\n",
      "\n"
     ]
    },
    {
     "name": "stdin",
     "output_type": "stream",
     "text": [
      "Enter your query:  which cake is best\n"
     ]
    },
    {
     "name": "stdout",
     "output_type": "stream",
     "text": [
      "We have a variety of cakes available in our menu. Let us know which one do you want to order\n",
      "\n"
     ]
    },
    {
     "name": "stdin",
     "output_type": "stream",
     "text": [
      "Enter your query:  what's the price\n"
     ]
    },
    {
     "name": "stdout",
     "output_type": "stream",
     "text": [
      "This cake costs $$. How would you like to pay\n",
      "\n"
     ]
    },
    {
     "name": "stdin",
     "output_type": "stream",
     "text": [
      "Enter your query:  do you deliver cake\n"
     ]
    },
    {
     "name": "stdout",
     "output_type": "stream",
     "text": [
      "We have a variety of cakes available in our menu. Let us know which one do you want to order\n",
      "\n"
     ]
    },
    {
     "name": "stdin",
     "output_type": "stream",
     "text": [
      "Enter your query:  will you do delivery\n"
     ]
    },
    {
     "name": "stdout",
     "output_type": "stream",
     "text": [
      "Please share your address\n",
      "\n"
     ]
    },
    {
     "name": "stdin",
     "output_type": "stream",
     "text": [
      "Enter your query:  can I get my bill\n"
     ]
    },
    {
     "name": "stdout",
     "output_type": "stream",
     "text": [
      "Please receive your bill\n",
      "\n"
     ]
    },
    {
     "name": "stdin",
     "output_type": "stream",
     "text": [
      "Enter your query:  here is my feedback\n"
     ]
    },
    {
     "name": "stdout",
     "output_type": "stream",
     "text": [
      "We are happy to receive your feedback. See you next time!\n",
      "\n"
     ]
    },
    {
     "name": "stdin",
     "output_type": "stream",
     "text": [
      "Enter your query:  location\n"
     ]
    },
    {
     "name": "stdout",
     "output_type": "stream",
     "text": [
      "Enter a valid feedback\n",
      "\n"
     ]
    },
    {
     "name": "stdin",
     "output_type": "stream",
     "text": [
      "Enter your query:  quit\n"
     ]
    },
    {
     "name": "stdout",
     "output_type": "stream",
     "text": [
      "Thank you, Have a nice day\n",
      " \n"
     ]
    }
   ],
   "source": [
    "print(\"Welcome to 'Cake world, How may I help you!\")\n",
    "print(\"Please enter 'Quit' to stop\\n\")\n",
    "\n",
    "while(True):\n",
    "    text = input(\"Enter your query: \")\n",
    "    text.lower()\n",
    "    if text == 'quit':\n",
    "        print(\"Thank you, Have a nice day\\n \")\n",
    "        break\n",
    "    query = text.split()\n",
    "    \n",
    "    if query == False:\n",
    "        print(\"This is not a valid option. Please try again\\n\")\n",
    "    elif 'morning' in query:\n",
    "        print(\"Good Morning to you\\n\")\n",
    "    elif 'order' in query:\n",
    "        print(\"thank you for showing interest in us. Here are the options for you\\n\")\n",
    "    elif 'menu' in query:\n",
    "        print(\"Here is our menu. Please have a look\\n\")\n",
    "    elif 'cake' in query:\n",
    "        print(\"We have a variety of cakes available in our menu. Let us know which one do you want to order\\n\")\n",
    "    elif 'price' in query:\n",
    "        print(\"This cake costs $$. How would you like to pay\\n\")\n",
    "    elif 'delivery' in query:\n",
    "        print(\"Please share your address\\n\")\n",
    "    elif 'feedback' in query:\n",
    "        print(\"We are happy to receive your feedback. See you next time!\\n\")\n",
    "    elif 'bill' in query:\n",
    "        print(\"Please receive your bill\\n\")\n",
    "    else:\n",
    "        print(\"Enter a valid feedback\\n\")\n",
    "    \n",
    "    \n",
    "    \n",
    "     \n",
    "\n",
    "    \n",
    "    "
   ]
  },
  {
   "cell_type": "markdown",
   "id": "26495fae-2f5a-4bb2-b527-7275f456ebac",
   "metadata": {},
   "source": [
    "7. Write a program to find the roots of a quadratic equation. Get the co- efficients of quadratic equation ax^2+bx+c and display whether the roots are real and equal or real and distinct or roots are imaginary. You have to find the roots and display it as well."
   ]
  },
  {
   "cell_type": "code",
   "execution_count": 119,
   "id": "cdd74779-d991-4df4-9db1-3f058f1003f0",
   "metadata": {},
   "outputs": [
    {
     "name": "stdin",
     "output_type": "stream",
     "text": [
      "Enter the co-efficients:  2 2 1\n"
     ]
    },
    {
     "name": "stdout",
     "output_type": "stream",
     "text": [
      "Roots are complex\n",
      "-0.5  + i 2.0\n",
      "-0.5  - i 2.0\n"
     ]
    }
   ],
   "source": [
    "#quadratic equation: ax^2+bx+c\n",
    "\n",
    "import math\n",
    "\n",
    "a,b,c = map(float,input(\"Enter the co-efficients: \").split())\n",
    "\n",
    "#calculating discriminant\n",
    "\n",
    "disc = b*b - 4*a*c \n",
    "sqrt_disc = math.sqrt(abs(disc))\n",
    "\n",
    "if a ==0:\n",
    "    print(\"Invalid coefficient. Enter correct value for a \")\n",
    "\n",
    "elif disc > 0:\n",
    "    print(\"Roots are real and distinct\")\n",
    "    print((-b + sqrt_disc)/(2*a),end=' ')\n",
    "    print((-b - sqrt_disc)/(2*a),end=' ')\n",
    "    \n",
    "elif disc == 0:\n",
    "    print(\"Roots are real and same\")\n",
    "    print(-b/(2*a))\n",
    "    \n",
    "elif disc < 0:\n",
    "    print(\"Roots are complex\")\n",
    "    print(- b/(2*a), \" + i\", sqrt_disc) \n",
    "    print(-b/(2*a), \" - i\", sqrt_disc)\n",
    "\n"
   ]
  },
  {
   "cell_type": "markdown",
   "id": "d6ed1b42-2f1d-44ee-b681-56d936eb4b8c",
   "metadata": {},
   "source": [
    "8. Given a range of first 10 numbers, write a Python program to iterate from start number to the end number and print the sum of the current number and previous number.\n",
    "\n",
    "Sample input: 1....10\n",
    "Sample output: Current Number 1 Previous Number 0 Sum: 1 Current Number 2 Previous Number 1 Sum: 3\n",
    "Current Number 3 Previous Number 2 Sum: 5...\n",
    ".......\n",
    "Current Number 10 Previous Number 9 Sum: 19"
   ]
  },
  {
   "cell_type": "code",
   "execution_count": 129,
   "id": "c0725eb2-7f75-4061-87d5-f5777dd5d3bd",
   "metadata": {},
   "outputs": [
    {
     "name": "stdout",
     "output_type": "stream",
     "text": [
      "Enter 10 numbers: \n"
     ]
    },
    {
     "name": "stdin",
     "output_type": "stream",
     "text": [
      " 1 2 3 4 5 6 7 8 9 10\n"
     ]
    },
    {
     "name": "stdout",
     "output_type": "stream",
     "text": [
      "current number  1 previous number 0 Sum:  1\n",
      "\n",
      "current number  2 previous number 1 Sum:  3\n",
      "\n",
      "current number  3 previous number 2 Sum:  5\n",
      "\n",
      "current number  4 previous number 3 Sum:  7\n",
      "\n",
      "current number  5 previous number 4 Sum:  9\n",
      "\n",
      "current number  6 previous number 5 Sum:  11\n",
      "\n",
      "current number  7 previous number 6 Sum:  13\n",
      "\n",
      "current number  8 previous number 7 Sum:  15\n",
      "\n",
      "current number  9 previous number 8 Sum:  17\n",
      "\n",
      "current number  10 previous number 9 Sum:  19\n",
      "\n",
      " [1, 3, 5, 7, 9, 11, 13, 15, 17, 19]\n"
     ]
    }
   ],
   "source": [
    "print(\"Enter 10 numbers: \")\n",
    "\n",
    "sum_list =[]\n",
    "num_list = list(map(int,input().split()))\n",
    "\n",
    "for i in range(0, len(num_list)):\n",
    "    if i == 0:\n",
    "        sum_list.append(num_list[i])\n",
    "        print(\"current number \",num_list[i], \"previous number\",i, \"Sum: \", sum_list[i])\n",
    "    else:\n",
    "        sum_list.append(num_list[i]+num_list[i-1])\n",
    "        print(\"\\ncurrent number \",num_list[i], \"previous number\",num_list[i-1], \"Sum: \", sum_list[i])\n",
    "print(\"\\n\",sum_list)\n",
    "        \n",
    "        \n",
    "     \n",
    "   "
   ]
  },
  {
   "cell_type": "markdown",
   "id": "273bf742-584a-4851-a9c9-5667fa47efa8",
   "metadata": {},
   "source": [
    "9. Write a Python program to find the prime numbers in a given range. Get the range from user and print prime numbers in that range."
   ]
  },
  {
   "cell_type": "code",
   "execution_count": 169,
   "id": "0334ee68-2cce-4543-99ab-e36f61b6a42a",
   "metadata": {},
   "outputs": [
    {
     "name": "stdin",
     "output_type": "stream",
     "text": [
      "Enter the range:  2 50\n"
     ]
    },
    {
     "name": "stdout",
     "output_type": "stream",
     "text": [
      "Prime numbers in the range from 2 to 50 : [2, 3, 5, 7, 11, 13, 17, 19, 23, 29, 31, 37, 41, 43, 47]\n"
     ]
    }
   ],
   "source": [
    "range_s,range_e = map(int,input(\"Enter the range: \").split())\n",
    "\n",
    "#'0' and '1' are not considered prime numbers.\n",
    "if range_s ==0 or range_e ==1:\n",
    "    print(\"Enter a valid number for range\")\n",
    "\n",
    "else:\n",
    "    prime_list =[]\n",
    "    #starting prime number is '2'\n",
    "    for i in range(range_s,range_e+1):\n",
    "        is_prime = True\n",
    "        for j in range(2,((i+1)//2)+1):\n",
    "            if i%j == 0:\n",
    "                is_prime = False\n",
    "                break\n",
    "            \n",
    "        if is_prime == True:\n",
    "            prime_list.append(i)\n",
    "    \n",
    "    #print(\"Prime numbers in the range\", r_ange,\":\", prime_list)\n",
    "    print(f\"Prime numbers in the range from {range_s} to {range_e} : {prime_list}\")\n",
    "    "
   ]
  },
  {
   "cell_type": "markdown",
   "id": "813b44e8-7e78-4eef-b3bc-ed7d6e4e0bac",
   "metadata": {},
   "source": [
    "10. Write a Python program to print Fibonacci series in a given range. Get the range from user and print fibonacci numbers in that range."
   ]
  },
  {
   "cell_type": "code",
   "execution_count": 206,
   "id": "2d2d4f43-2e0f-4f89-81db-b33eccf87ec0",
   "metadata": {},
   "outputs": [
    {
     "name": "stdin",
     "output_type": "stream",
     "text": [
      "Enter the range:  25 1000\n"
     ]
    },
    {
     "name": "stdout",
     "output_type": "stream",
     "text": [
      "Fibonacci series in the range from 25 to 1000 is\n",
      "34 55 89 144 233 377 610 987 "
     ]
    }
   ],
   "source": [
    "#user input range of Fibonacci series\n",
    "range_s,range_e = map(int,input(\"Enter the range: \").split())\n",
    "\n",
    "f_num1 = 0\n",
    "f_num2 = 1\n",
    "fib_list = [f_num1,f_num2]\n",
    "\n",
    "while(f_num2<=range_e):\n",
    "    temp = f_num1+f_num2\n",
    "    f_num1 = f_num2\n",
    "    f_num2 = temp\n",
    "    fib_list.append(f_num2)\n",
    "      \n",
    "print(f\"Fibonacci series in the range from {range_s} to {range_e} is\")\n",
    "for num in fib_list:\n",
    "    if (num>=range_s) and (num<=range_e):\n",
    "          print(num, end=' ')\n",
    " "
   ]
  },
  {
   "cell_type": "code",
   "execution_count": null,
   "id": "6fa84522-7c02-4c56-a61d-13b2cb65aa5e",
   "metadata": {},
   "outputs": [],
   "source": []
  },
  {
   "cell_type": "code",
   "execution_count": null,
   "id": "b996d2d0-b0c3-4d59-a848-1dc6ce77aae1",
   "metadata": {},
   "outputs": [],
   "source": []
  },
  {
   "cell_type": "markdown",
   "id": "04975806-e21b-4adc-9ac9-e117adee994e",
   "metadata": {},
   "source": [
    "  Submitted By: Ajuma Mohammed, MST-Jan-Python Batch"
   ]
  }
 ],
 "metadata": {
  "kernelspec": {
   "display_name": "Python 3 (ipykernel)",
   "language": "python",
   "name": "python3"
  },
  "language_info": {
   "codemirror_mode": {
    "name": "ipython",
    "version": 3
   },
   "file_extension": ".py",
   "mimetype": "text/x-python",
   "name": "python",
   "nbconvert_exporter": "python",
   "pygments_lexer": "ipython3",
   "version": "3.8.13"
  }
 },
 "nbformat": 4,
 "nbformat_minor": 5
}
