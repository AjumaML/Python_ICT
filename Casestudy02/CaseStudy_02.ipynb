{
 "cells": [
  {
   "cell_type": "markdown",
   "id": "025e43fc-9e87-4a2f-8283-bebddbb425df",
   "metadata": {},
   "source": [
    "#        Case Study 02"
   ]
  },
  {
   "cell_type": "markdown",
   "id": "47620aa1-9c02-4d9e-8e96-1b4042645325",
   "metadata": {},
   "source": [
    "1. Write a Python function to sum all the numbers in a list. (Create a list and\n",
    "   get list elements from user)"
   ]
  },
  {
   "cell_type": "code",
   "execution_count": 7,
   "id": "72354660-2339-4e68-b2bb-53d35115e93c",
   "metadata": {},
   "outputs": [
    {
     "name": "stdin",
     "output_type": "stream",
     "text": [
      "Enter elements to the list:  1 2 3 4 5\n"
     ]
    },
    {
     "name": "stdout",
     "output_type": "stream",
     "text": [
      "Sum of list is 15\n"
     ]
    }
   ],
   "source": [
    "def sum_list(num_list):\n",
    "    return sum(num_list)\n",
    "\n",
    "num_list = list(map(int, input(\"Enter elements to the list: \").split()))\n",
    "print(f\"Sum of list is {sum_list(num_list)}\")\n",
    "                                              \n",
    "                               "
   ]
  },
  {
   "cell_type": "code",
   "execution_count": 8,
   "id": "15f588b1-4111-4f07-81d1-f449187a9380",
   "metadata": {},
   "outputs": [
    {
     "name": "stdin",
     "output_type": "stream",
     "text": [
      "Enter elements to the list:  10 20 30 40 50\n"
     ]
    },
    {
     "name": "stdout",
     "output_type": "stream",
     "text": [
      "Sum of list is 150\n"
     ]
    }
   ],
   "source": [
    "def sum_list1(num_list):\n",
    "    sum_ = 0\n",
    "    for num in num_list:\n",
    "        sum_ = sum_ + num\n",
    "    return sum_\n",
    "\n",
    "num_list = list(map(int, input(\"Enter elements to the list: \").split()))\n",
    "print(f\"Sum of list is {sum_list(num_list)}\")\n"
   ]
  },
  {
   "cell_type": "markdown",
   "id": "d1520afe-1efa-41d6-b272-d6e0c1baee39",
   "metadata": {},
   "source": [
    "2. Write a Python function that checks whether a passed string is\n",
    "   palindrome or not."
   ]
  },
  {
   "cell_type": "code",
   "execution_count": 20,
   "id": "76b22b5b-b996-4348-92dd-23cb61244860",
   "metadata": {},
   "outputs": [
    {
     "name": "stdin",
     "output_type": "stream",
     "text": [
      "Enter a string:  English\n"
     ]
    },
    {
     "name": "stdout",
     "output_type": "stream",
     "text": [
      "String is not palindrome\n"
     ]
    }
   ],
   "source": [
    "def is_palindrome(str1):\n",
    "    \n",
    "    str_rev = str1[::-1]\n",
    "    return (str1 == str_rev)\n",
    "    \n",
    "str1 = input(\"Enter a string: \")\n",
    "str1 = str1.lower()\n",
    "\n",
    "if is_palindrome(str1) == True:\n",
    "    print(\"String is palindrome\")\n",
    "else:\n",
    "    print(\"String is not palindrome\")\n",
    "        "
   ]
  },
  {
   "cell_type": "markdown",
   "id": "4f72d251-b1cf-45f1-b7a3-351a9a5073a6",
   "metadata": {},
   "source": [
    "3. Write a Python recursive function to find the Fibonacci series. Get the limit from the user\n"
   ]
  },
  {
   "cell_type": "code",
   "execution_count": 65,
   "id": "f8b38484-b3b8-49f8-9a8a-f962835e3d88",
   "metadata": {},
   "outputs": [
    {
     "name": "stdin",
     "output_type": "stream",
     "text": [
      "Enter the limit for Fibonacci series:  15\n"
     ]
    },
    {
     "name": "stdout",
     "output_type": "stream",
     "text": [
      "0 1 1 2 3 5 8 13 21 34 55 89 144 233 377 "
     ]
    }
   ],
   "source": [
    "def fib(n):\n",
    "    if n <= 0:\n",
    "        return 0\n",
    "    if n == 1:\n",
    "        return 1\n",
    "    else:\n",
    "        return fib(n-1)+fib(n-2)\n",
    "\n",
    "limit = int(input(\"Enter the limit for Fibonacci series: \"))\n",
    "\n",
    "for i in range (limit):\n",
    "    print(fib(i), end = ' ')\n",
    "        "
   ]
  },
  {
   "cell_type": "markdown",
   "id": "222d19ee-1ed1-43c4-9c10-04dafbe869d9",
   "metadata": {},
   "source": [
    "4. Write a Python recursive function to print the multiplication table of given number\n",
    "        "
   ]
  },
  {
   "cell_type": "code",
   "execution_count": 87,
   "id": "eeb44fee-8887-48d7-b09e-930d48e47f6a",
   "metadata": {},
   "outputs": [
    {
     "name": "stdin",
     "output_type": "stream",
     "text": [
      "Enter the number for which you want to get the multiplication table:  8\n"
     ]
    },
    {
     "name": "stdout",
     "output_type": "stream",
     "text": [
      "8  *  1  =  8\n",
      "8  *  2  =  16\n",
      "8  *  3  =  24\n",
      "8  *  4  =  32\n",
      "8  *  5  =  40\n",
      "8  *  6  =  48\n",
      "8  *  7  =  56\n",
      "8  *  8  =  64\n",
      "8  *  9  =  72\n",
      "8  *  10  =  80\n"
     ]
    }
   ],
   "source": [
    "def mult_table(n,i=None):\n",
    "    \n",
    "    if i == None:\n",
    "        i=1\n",
    "    if i>10:\n",
    "        return\n",
    "    \n",
    "    print(f\"{n}  *  {i}  =  {n*i}\")\n",
    "    return mult_table(n,i+1)\n",
    "\n",
    "n = int(input(\"Enter the number for which you want to get the multiplication table: \"))\n",
    "\n",
    "mult_table(n,i)\n",
    " \n"
   ]
  },
  {
   "cell_type": "markdown",
   "id": "589d9b58-6b75-49a5-bca6-1dc8557d1268",
   "metadata": {},
   "source": [
    "\n",
    "5. Define a function which counts vowels and consonant in a word."
   ]
  },
  {
   "cell_type": "code",
   "execution_count": 118,
   "id": "f68bc2e0-edba-435c-b1b6-5f47d230a897",
   "metadata": {},
   "outputs": [
    {
     "name": "stdin",
     "output_type": "stream",
     "text": [
      "Enter a string beautiful\n"
     ]
    },
    {
     "name": "stdout",
     "output_type": "stream",
     "text": [
      "Number of vowels: 5, number of consonents  4 \n"
     ]
    }
   ],
   "source": [
    "def find_vowel_cons(str1,vowels):\n",
    "    \n",
    "    count =[]\n",
    "    v_count, c_count = 0,0\n",
    "    for char in str1:\n",
    "        if char in vowels:\n",
    "            v_count+=1 \n",
    "        else:\n",
    "            c_count+=1\n",
    "    count.append(v_count)\n",
    "    count.append(c_count)\n",
    "    return count\n",
    "    \n",
    "\n",
    "str1 = input(\"Enter a string\")\n",
    "\n",
    "vowels = ('a','e','i','o','u')\n",
    "\n",
    "if str1.isalpha() == True:\n",
    "    count = find_vowel_cons(str1,vowels)\n",
    "    print(f\"Number of vowels: {count[0]}, number of consonents  {count[1]} \")\n",
    "else:\n",
    "    print(\"Enter a valid string\")\n",
    "    \n",
    "    \n",
    "    "
   ]
  },
  {
   "cell_type": "markdown",
   "id": "4eb5830e-fc81-4e4c-8953-1cc899626f7e",
   "metadata": {},
   "source": [
    "6.  Define a function that accepts lowercase words and returns uppercase\n",
    "words."
   ]
  },
  {
   "cell_type": "code",
   "execution_count": 125,
   "id": "85cb6172-aa31-4cba-8bf3-92a42fc38261",
   "metadata": {},
   "outputs": [
    {
     "name": "stdin",
     "output_type": "stream",
     "text": [
      "Enter a string python\n"
     ]
    },
    {
     "name": "stdout",
     "output_type": "stream",
     "text": [
      "Word in uppercase:  PYTHON\n"
     ]
    }
   ],
   "source": [
    "def to_upper(str1):\n",
    "    if str1.islower():\n",
    "        return str1.upper()\n",
    "    else:\n",
    "        print(\"Enter a lowercase word\")\n",
    "        return\n",
    "    \n",
    "str_ = input(\"Enter a string\")\n",
    "print(f\"Word in uppercase:  {to_upper(str_)}\")\n",
    "    "
   ]
  },
  {
   "cell_type": "markdown",
   "id": "54c02e80-17ab-41b4-b5a7-8de3e1c13b73",
   "metadata": {},
   "source": [
    "7. Write a Python program to remove ‘None’ values from a given list using\n",
    "the lambda function.\n",
    "Given input = [12, 0, None, 23, None, -55, 234, 89, None, 0, 6, -12] Expected output = [12, 0, 23, -55, 234, 89, 0, 6, -12]\n"
   ]
  },
  {
   "cell_type": "code",
   "execution_count": 128,
   "id": "9b89400a-50e7-47c2-96df-54b89fbeb551",
   "metadata": {},
   "outputs": [
    {
     "name": "stdout",
     "output_type": "stream",
     "text": [
      "[12, 0, 23, -55, 234, 89, 0, 6, -12]\n"
     ]
    }
   ],
   "source": [
    "input_list = [12,0,None,23,None,-55,234,89,None,0,6,-12]\n",
    "output_list = list(filter(lambda x: x!=None,input_list))\n",
    "\n",
    "print(output_list)"
   ]
  },
  {
   "cell_type": "markdown",
   "id": "b9b4cdd2-033d-4261-add2-770db8a837ca",
   "metadata": {},
   "source": [
    "8. Write a Rectangle class in Python language, allowing you to build a rectangle with length and width attributes.\n",
    "\n",
    "    a. Create a Perimeter() method to calculate the perimeter of the rectangle and a Area() method to calculate the area of the rectangle.\n",
    "    \n",
    "    b. Create a method display() that display the length,width,perimeter and area of an object created using an instantiation on rectangle class.\n",
    "    \n",
    "    c. Create a Parallelepiped child class inheriting from the Rectangle class and with a height attribute and another Volume() method to calculate the volume of the Parallelepiped."
   ]
  },
  {
   "cell_type": "code",
   "execution_count": 137,
   "id": "9845dabd-04ae-4557-b698-d9535e49249d",
   "metadata": {},
   "outputs": [
    {
     "name": "stdout",
     "output_type": "stream",
     "text": [
      "Length 5\n",
      "Width 6\n",
      "Perimeter 22\n",
      "Circumference 30\n",
      "Height 4\n",
      "Length 5\n",
      "Width 6\n",
      "Volume 120\n"
     ]
    }
   ],
   "source": [
    "import math\n",
    "\n",
    "class Rectangle:\n",
    "    def __init__(self,length,width):\n",
    "        self.length = length\n",
    "        self.width = width\n",
    "        \n",
    "    def perimeter(self):\n",
    "        p = 2*(self.length+self.width)\n",
    "        return p\n",
    "    \n",
    "    def area(self):\n",
    "        a = self.length*self.width\n",
    "        return a\n",
    "        \n",
    "    def display(self):\n",
    "        print(\"Length\", self.length)\n",
    "        print(\"Width\", self.width)\n",
    "        print(\"Perimeter\", self.perimeter( ))\n",
    "        print(\"Circumference\", self.area( ))\n",
    "        \n",
    "class Parallelepiped(Rectangle):\n",
    "    def __init__(self,height,length,width):\n",
    "        self.length = length\n",
    "        self.width = width\n",
    "        self.height = height\n",
    "        \n",
    "    def volume(self):\n",
    "        v = self.area()*self.height\n",
    "        return v\n",
    "    \n",
    "    def display(self):\n",
    "        print(\"Height\", self.height)\n",
    "        print(\"Length\", self.length)\n",
    "        print(\"Width\", self.width)\n",
    "        print(\"Volume\", self.volume())\n",
    "        \n",
    "    \n",
    "\n",
    "Rect1 =  Rectangle(5,6)\n",
    "Rect1.display()\n",
    "\n",
    "Parallel1 = Parallelepiped(4,5,6)\n",
    "Parallel1.display()\n"
   ]
  },
  {
   "cell_type": "markdown",
   "id": "74caa96a-73fd-4f26-b618-da9c6aa93225",
   "metadata": {},
   "source": [
    " 9. Create a Python class called BankAccount which represents a bank account, having as attributes: accountNumber (numeric type), name (name of the account owner as string type), balance.\n",
    "\n",
    "a. Create a constructor with parameters: accountNumber, name, balance.\n",
    "\n",
    "b. Create a Deposit() method which manages the deposit actions.\n",
    "\n",
    "c. Create a Withdrawal() method which manages withdrawals\n",
    "actions.\n",
    "\n",
    "d. Create an bankFees() method to apply the bank fees with a\n",
    "percentage of 5% of the balance account.\n",
    "\n",
    "e. Create a display() method to display account details.\n",
    "\n",
    "f. Give the complete code for the BankAccount class."
   ]
  },
  {
   "cell_type": "code",
   "execution_count": 140,
   "id": "c87c73ec-cc23-4b01-a519-b540f7ee2d79",
   "metadata": {},
   "outputs": [
    {
     "name": "stdout",
     "output_type": "stream",
     "text": [
      "Account Number 11245678254\n",
      "Account Holder Name Suresh\n",
      "Account Balance 10000\n"
     ]
    }
   ],
   "source": [
    "class BankAccount:\n",
    "    def __init__(self,accnt_num,name,balance):\n",
    "        self.accnt_num = accnt_num\n",
    "        self.name = name\n",
    "        self.balance = balance\n",
    "        \n",
    "    def deposit(self,amount):\n",
    "        self.balance = self.balance+amount\n",
    "        \n",
    "    def withdrawal(self,amount):\n",
    "        self.balance = self.balance - amount\n",
    "        \n",
    "    def bankfees(self):\n",
    "        self.balance = self.balance * 0.95\n",
    "        \n",
    "    def display(self):\n",
    "        print(\"Account Number\", self.accnt_num)\n",
    "        print(\"Account Holder Name\", self.name)\n",
    "        print(\"Account Balance\", self.balance)\n",
    "        \n",
    "account1 = BankAccount(11245678254, \"Suresh\", 10000)\n",
    "account1.display()\n",
    "    "
   ]
  },
  {
   "cell_type": "markdown",
   "id": "a74fdb92-6805-4b94-8bef-e18bd18a2d64",
   "metadata": {},
   "source": [
    "10 . 10. Create a base class rectangle with attributes length and breadth, methods area and perimeter.\n",
    "\n",
    "a. Save the rectangle class as a python file rectangle.py file.\n",
    "\n",
    "b. Open another python script and import the rectangle.py file.\n",
    "\n",
    "c. In the newly created script derive a child class called Parallelepiped\n",
    "class inheriting from the Rectangle class and with a height attribute and another Volume() method to calculate the volume of the Parallelepiped.\n",
    "\n",
    "d. Now create objects for parentclass and childclass in newlycreated script and access methods of parent class and child class."
   ]
  },
  {
   "cell_type": "code",
   "execution_count": null,
   "id": "ae05bd0b-dc3d-4cdb-9b53-998d33743999",
   "metadata": {},
   "outputs": [],
   "source": [
    "     \n"
   ]
  }
 ],
 "metadata": {
  "kernelspec": {
   "display_name": "Python 3 (ipykernel)",
   "language": "python",
   "name": "python3"
  },
  "language_info": {
   "codemirror_mode": {
    "name": "ipython",
    "version": 3
   },
   "file_extension": ".py",
   "mimetype": "text/x-python",
   "name": "python",
   "nbconvert_exporter": "python",
   "pygments_lexer": "ipython3",
   "version": "3.8.13"
  }
 },
 "nbformat": 4,
 "nbformat_minor": 5
}
